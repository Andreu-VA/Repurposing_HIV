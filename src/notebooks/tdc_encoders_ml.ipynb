{
 "cells": [
  {
   "cell_type": "code",
   "execution_count": 1,
   "metadata": {},
   "outputs": [],
   "source": [
    "import pandas as pd\n",
    "import numpy as np\n",
    "import matplotlib.pyplot as plt\n",
    "import seaborn as sns\n"
   ]
  },
  {
   "cell_type": "code",
   "execution_count": 2,
   "metadata": {},
   "outputs": [],
   "source": [
    "train= pd.read_csv(\"../data/processed/train_w_desc.csv\")"
   ]
  },
  {
   "cell_type": "code",
   "execution_count": 3,
   "metadata": {},
   "outputs": [
    {
     "data": {
      "text/html": [
       "<div>\n",
       "<style scoped>\n",
       "    .dataframe tbody tr th:only-of-type {\n",
       "        vertical-align: middle;\n",
       "    }\n",
       "\n",
       "    .dataframe tbody tr th {\n",
       "        vertical-align: top;\n",
       "    }\n",
       "\n",
       "    .dataframe thead th {\n",
       "        text-align: right;\n",
       "    }\n",
       "</style>\n",
       "<table border=\"1\" class=\"dataframe\">\n",
       "  <thead>\n",
       "    <tr style=\"text-align: right;\">\n",
       "      <th></th>\n",
       "      <th>Drug_ID</th>\n",
       "      <th>Drug</th>\n",
       "      <th>Y</th>\n",
       "      <th>mol</th>\n",
       "      <th>tpsa</th>\n",
       "      <th>mol_w</th>\n",
       "      <th>qed</th>\n",
       "      <th>HBA</th>\n",
       "      <th>HBD</th>\n",
       "      <th>logP</th>\n",
       "      <th>MR</th>\n",
       "    </tr>\n",
       "  </thead>\n",
       "  <tbody>\n",
       "    <tr>\n",
       "      <th>0</th>\n",
       "      <td>Drug 0</td>\n",
       "      <td>CCC1=[O+][Cu-3]2([O+]=C(CC)C1)[O+]=C(CC)CC(CC)...</td>\n",
       "      <td>0</td>\n",
       "      <td>&lt;rdkit.Chem.rdchem.Mol object at 0x00000201534...</td>\n",
       "      <td>45.20</td>\n",
       "      <td>319.096508</td>\n",
       "      <td>0.434358</td>\n",
       "      <td>0</td>\n",
       "      <td>0</td>\n",
       "      <td>2.6669</td>\n",
       "      <td>70.4260</td>\n",
       "    </tr>\n",
       "    <tr>\n",
       "      <th>1</th>\n",
       "      <td>Drug 2</td>\n",
       "      <td>CC(=O)N1c2ccccc2Sc2c1ccc1ccccc21</td>\n",
       "      <td>0</td>\n",
       "      <td>&lt;rdkit.Chem.rdchem.Mol object at 0x00000201534...</td>\n",
       "      <td>20.31</td>\n",
       "      <td>291.071785</td>\n",
       "      <td>0.581359</td>\n",
       "      <td>2</td>\n",
       "      <td>0</td>\n",
       "      <td>4.9890</td>\n",
       "      <td>87.3330</td>\n",
       "    </tr>\n",
       "    <tr>\n",
       "      <th>2</th>\n",
       "      <td>Drug 5</td>\n",
       "      <td>CCOP(=O)(Nc1cccc(Cl)c1)OCC</td>\n",
       "      <td>0</td>\n",
       "      <td>&lt;rdkit.Chem.rdchem.Mol object at 0x00000201531...</td>\n",
       "      <td>47.56</td>\n",
       "      <td>263.047808</td>\n",
       "      <td>0.790087</td>\n",
       "      <td>3</td>\n",
       "      <td>1</td>\n",
       "      <td>3.9330</td>\n",
       "      <td>65.9332</td>\n",
       "    </tr>\n",
       "    <tr>\n",
       "      <th>3</th>\n",
       "      <td>Drug 6</td>\n",
       "      <td>O=C(O)c1ccccc1O</td>\n",
       "      <td>0</td>\n",
       "      <td>&lt;rdkit.Chem.rdchem.Mol object at 0x00000201531...</td>\n",
       "      <td>57.53</td>\n",
       "      <td>138.031694</td>\n",
       "      <td>0.610259</td>\n",
       "      <td>3</td>\n",
       "      <td>2</td>\n",
       "      <td>1.0904</td>\n",
       "      <td>35.0661</td>\n",
       "    </tr>\n",
       "    <tr>\n",
       "      <th>4</th>\n",
       "      <td>Drug 8</td>\n",
       "      <td>O=[N+]([O-])c1ccc(SSc2ccc([N+](=O)[O-])cc2[N+]...</td>\n",
       "      <td>0</td>\n",
       "      <td>&lt;rdkit.Chem.rdchem.Mol object at 0x00000201531...</td>\n",
       "      <td>172.56</td>\n",
       "      <td>397.962705</td>\n",
       "      <td>0.374691</td>\n",
       "      <td>10</td>\n",
       "      <td>0</td>\n",
       "      <td>4.1188</td>\n",
       "      <td>91.2156</td>\n",
       "    </tr>\n",
       "  </tbody>\n",
       "</table>\n",
       "</div>"
      ],
      "text/plain": [
       "  Drug_ID                                               Drug  Y  \\\n",
       "0  Drug 0  CCC1=[O+][Cu-3]2([O+]=C(CC)C1)[O+]=C(CC)CC(CC)...  0   \n",
       "1  Drug 2                   CC(=O)N1c2ccccc2Sc2c1ccc1ccccc21  0   \n",
       "2  Drug 5                         CCOP(=O)(Nc1cccc(Cl)c1)OCC  0   \n",
       "3  Drug 6                                    O=C(O)c1ccccc1O  0   \n",
       "4  Drug 8  O=[N+]([O-])c1ccc(SSc2ccc([N+](=O)[O-])cc2[N+]...  0   \n",
       "\n",
       "                                                 mol    tpsa       mol_w  \\\n",
       "0  <rdkit.Chem.rdchem.Mol object at 0x00000201534...   45.20  319.096508   \n",
       "1  <rdkit.Chem.rdchem.Mol object at 0x00000201534...   20.31  291.071785   \n",
       "2  <rdkit.Chem.rdchem.Mol object at 0x00000201531...   47.56  263.047808   \n",
       "3  <rdkit.Chem.rdchem.Mol object at 0x00000201531...   57.53  138.031694   \n",
       "4  <rdkit.Chem.rdchem.Mol object at 0x00000201531...  172.56  397.962705   \n",
       "\n",
       "        qed  HBA  HBD    logP       MR  \n",
       "0  0.434358    0    0  2.6669  70.4260  \n",
       "1  0.581359    2    0  4.9890  87.3330  \n",
       "2  0.790087    3    1  3.9330  65.9332  \n",
       "3  0.610259    3    2  1.0904  35.0661  \n",
       "4  0.374691   10    0  4.1188  91.2156  "
      ]
     },
     "execution_count": 3,
     "metadata": {},
     "output_type": "execute_result"
    }
   ],
   "source": [
    "train.head()"
   ]
  },
  {
   "cell_type": "code",
   "execution_count": 4,
   "metadata": {},
   "outputs": [],
   "source": [
    "import rdkit"
   ]
  },
  {
   "cell_type": "code",
   "execution_count": 5,
   "metadata": {},
   "outputs": [],
   "source": [
    "from rdkit import Chem"
   ]
  },
  {
   "cell_type": "code",
   "execution_count": 6,
   "metadata": {},
   "outputs": [],
   "source": [
    "from rdkit.Chem import AllChem"
   ]
  },
  {
   "cell_type": "code",
   "execution_count": 8,
   "metadata": {},
   "outputs": [
    {
     "name": "stderr",
     "output_type": "stream",
     "text": [
      "[16:19:02] WARNING: not removing hydrogen atom without neighbors\n",
      "[16:19:02] WARNING: not removing hydrogen atom without neighbors\n"
     ]
    }
   ],
   "source": [
    "train['mol'] = train['Drug'].apply(lambda x: Chem.MolFromSmiles(x))"
   ]
  },
  {
   "cell_type": "code",
   "execution_count": 19,
   "metadata": {},
   "outputs": [
    {
     "name": "stdout",
     "output_type": "stream",
     "text": [
      "\u001b[1;31mDocstring:\u001b[0m\n",
      "RDKFingerprint( (Mol)mol [, (int)minPath=1 [, (int)maxPath=7 [, (int)fpSize=2048 [, (int)nBitsPerHash=2 [, (bool)useHs=True [, (float)tgtDensity=0.0 [, (int)minSize=128 [, (bool)branchedPaths=True [, (bool)useBondOrder=True [, (AtomPairsParameters)atomInvariants=0 [, (AtomPairsParameters)fromAtoms=0 [, (AtomPairsParameters)atomBits=None [, (AtomPairsParameters)bitInfo=None]]]]]]]]]]]]]) -> ExplicitBitVect :\n",
      "    Returns an RDKit topological fingerprint for a molecule\n",
      "    \n",
      "      Explanation of the algorithm below.\n",
      "    \n",
      "      ARGUMENTS:\n",
      "    \n",
      "        - mol: the molecule to use\n",
      "    \n",
      "        - minPath: (optional) minimum number of bonds to include in the subgraphs\n",
      "          Defaults to 1.\n",
      "    \n",
      "        - maxPath: (optional) maximum number of bonds to include in the subgraphs\n",
      "          Defaults to 7.\n",
      "    \n",
      "        - fpSize: (optional) number of bits in the fingerprint\n",
      "          Defaults to 2048.\n",
      "    \n",
      "        - nBitsPerHash: (optional) number of bits to set per path\n",
      "          Defaults to 2.\n",
      "    \n",
      "        - useHs: (optional) include paths involving Hs in the fingerprint if the molecule\n",
      "          has explicit Hs.\n",
      "          Defaults to True.\n",
      "    \n",
      "        - tgtDensity: (optional) fold the fingerprint until this minimum density has\n",
      "          been reached\n",
      "          Defaults to 0.\n",
      "    \n",
      "        - minSize: (optional) the minimum size the fingerprint will be folded to when\n",
      "          trying to reach tgtDensity\n",
      "          Defaults to 128.\n",
      "    \n",
      "        - branchedPaths: (optional) if set both branched and unbranched paths will be\n",
      "          used in the fingerprint.\n",
      "          Defaults to True.\n",
      "    \n",
      "        - useBondOrder: (optional) if set both bond orders will be used in the path hashes\n",
      "          Defaults to True.\n",
      "    \n",
      "        - atomInvariants: (optional) a sequence of atom invariants to use in the path hashes\n",
      "          Defaults to empty.\n",
      "    \n",
      "        - fromAtoms: (optional) a sequence of atom indices. If provided, only paths/subgraphs \n",
      "          starting from these atoms will be used.\n",
      "          Defaults to empty.\n",
      "    \n",
      "        - atomBits: (optional) an empty list. If provided, the result will contain a list \n",
      "          containing the bits each atom sets.\n",
      "          Defaults to empty.\n",
      "    \n",
      "        - bitInfo: (optional) an empty dict. If provided, the result will contain a dict \n",
      "          with bits as keys and corresponding bond paths as values.\n",
      "          Defaults to empty.\n",
      "    \n",
      "      RETURNS: a DataStructs.ExplicitBitVect with _fpSize_ bits\n",
      "    \n",
      "      ALGORITHM:\n",
      "    \n",
      "       This algorithm functions by find all subgraphs between minPath and maxPath in\n",
      "       length.  For each subgraph:\n",
      "    \n",
      "         1) A hash is calculated.\n",
      "    \n",
      "         2) The hash is used to seed a random-number generator\n",
      "    \n",
      "         3) _nBitsPerHash_ random numbers are generated and used to set the corresponding\n",
      "            bits in the fingerprint\n",
      "    \n",
      "    \n",
      "    \n",
      "\n",
      "    C++ signature :\n",
      "        class ExplicitBitVect * __ptr64 RDKFingerprint(class RDKit::ROMol [,unsigned int=1 [,unsigned int=7 [,unsigned int=2048 [,unsigned int=2 [,bool=True [,double=0.0 [,unsigned int=128 [,bool=True [,bool=True [,class boost::python::api::object=0 [,class boost::python::api::object=0 [,class boost::python::api::object=None [,class boost::python::api::object=None]]]]]]]]]]]]])\n",
      "\u001b[1;31mType:\u001b[0m      function\n"
     ]
    }
   ],
   "source": [
    "Chem.rdmolops.RDKFingerprint??"
   ]
  },
  {
   "cell_type": "code",
   "execution_count": 24,
   "metadata": {},
   "outputs": [],
   "source": [
    "vector= Chem.rdmolops.RDKFingerprint(train[\"mol\"][0])"
   ]
  },
  {
   "cell_type": "code",
   "execution_count": 29,
   "metadata": {},
   "outputs": [
    {
     "data": {
      "text/plain": [
       "2048"
      ]
     },
     "execution_count": 29,
     "metadata": {},
     "output_type": "execute_result"
    }
   ],
   "source": [
    "len(vector)"
   ]
  },
  {
   "cell_type": "code",
   "execution_count": 33,
   "metadata": {},
   "outputs": [],
   "source": [
    "vectors = [AllChem.rdmolops.RDKFingerprint(x) for x in train[\"mol\"]]"
   ]
  },
  {
   "cell_type": "code",
   "execution_count": 38,
   "metadata": {},
   "outputs": [
    {
     "data": {
      "text/plain": [
       "2048"
      ]
     },
     "execution_count": 38,
     "metadata": {},
     "output_type": "execute_result"
    }
   ],
   "source": [
    "len(vectors[0])"
   ]
  },
  {
   "cell_type": "code",
   "execution_count": 39,
   "metadata": {},
   "outputs": [
    {
     "data": {
      "text/html": [
       "<div>\n",
       "<style scoped>\n",
       "    .dataframe tbody tr th:only-of-type {\n",
       "        vertical-align: middle;\n",
       "    }\n",
       "\n",
       "    .dataframe tbody tr th {\n",
       "        vertical-align: top;\n",
       "    }\n",
       "\n",
       "    .dataframe thead th {\n",
       "        text-align: right;\n",
       "    }\n",
       "</style>\n",
       "<table border=\"1\" class=\"dataframe\">\n",
       "  <thead>\n",
       "    <tr style=\"text-align: right;\">\n",
       "      <th></th>\n",
       "      <th>Bit_0</th>\n",
       "      <th>Bit_1</th>\n",
       "      <th>Bit_2</th>\n",
       "      <th>Bit_3</th>\n",
       "      <th>Bit_4</th>\n",
       "      <th>Bit_5</th>\n",
       "      <th>Bit_6</th>\n",
       "      <th>Bit_7</th>\n",
       "      <th>Bit_8</th>\n",
       "      <th>Bit_9</th>\n",
       "      <th>...</th>\n",
       "      <th>Bit_2038</th>\n",
       "      <th>Bit_2039</th>\n",
       "      <th>Bit_2040</th>\n",
       "      <th>Bit_2041</th>\n",
       "      <th>Bit_2042</th>\n",
       "      <th>Bit_2043</th>\n",
       "      <th>Bit_2044</th>\n",
       "      <th>Bit_2045</th>\n",
       "      <th>Bit_2046</th>\n",
       "      <th>Bit_2047</th>\n",
       "    </tr>\n",
       "  </thead>\n",
       "  <tbody>\n",
       "    <tr>\n",
       "      <th>0</th>\n",
       "      <td>0</td>\n",
       "      <td>0</td>\n",
       "      <td>0</td>\n",
       "      <td>0</td>\n",
       "      <td>0</td>\n",
       "      <td>0</td>\n",
       "      <td>0</td>\n",
       "      <td>0</td>\n",
       "      <td>0</td>\n",
       "      <td>0</td>\n",
       "      <td>...</td>\n",
       "      <td>0</td>\n",
       "      <td>0</td>\n",
       "      <td>0</td>\n",
       "      <td>0</td>\n",
       "      <td>0</td>\n",
       "      <td>0</td>\n",
       "      <td>1</td>\n",
       "      <td>0</td>\n",
       "      <td>0</td>\n",
       "      <td>0</td>\n",
       "    </tr>\n",
       "    <tr>\n",
       "      <th>1</th>\n",
       "      <td>0</td>\n",
       "      <td>0</td>\n",
       "      <td>0</td>\n",
       "      <td>0</td>\n",
       "      <td>0</td>\n",
       "      <td>0</td>\n",
       "      <td>0</td>\n",
       "      <td>0</td>\n",
       "      <td>0</td>\n",
       "      <td>1</td>\n",
       "      <td>...</td>\n",
       "      <td>0</td>\n",
       "      <td>0</td>\n",
       "      <td>1</td>\n",
       "      <td>1</td>\n",
       "      <td>0</td>\n",
       "      <td>0</td>\n",
       "      <td>0</td>\n",
       "      <td>1</td>\n",
       "      <td>1</td>\n",
       "      <td>1</td>\n",
       "    </tr>\n",
       "    <tr>\n",
       "      <th>2</th>\n",
       "      <td>0</td>\n",
       "      <td>0</td>\n",
       "      <td>0</td>\n",
       "      <td>0</td>\n",
       "      <td>0</td>\n",
       "      <td>0</td>\n",
       "      <td>0</td>\n",
       "      <td>0</td>\n",
       "      <td>0</td>\n",
       "      <td>0</td>\n",
       "      <td>...</td>\n",
       "      <td>0</td>\n",
       "      <td>1</td>\n",
       "      <td>0</td>\n",
       "      <td>0</td>\n",
       "      <td>0</td>\n",
       "      <td>0</td>\n",
       "      <td>0</td>\n",
       "      <td>0</td>\n",
       "      <td>0</td>\n",
       "      <td>0</td>\n",
       "    </tr>\n",
       "    <tr>\n",
       "      <th>3</th>\n",
       "      <td>0</td>\n",
       "      <td>0</td>\n",
       "      <td>0</td>\n",
       "      <td>0</td>\n",
       "      <td>0</td>\n",
       "      <td>0</td>\n",
       "      <td>0</td>\n",
       "      <td>0</td>\n",
       "      <td>0</td>\n",
       "      <td>0</td>\n",
       "      <td>...</td>\n",
       "      <td>0</td>\n",
       "      <td>0</td>\n",
       "      <td>0</td>\n",
       "      <td>0</td>\n",
       "      <td>0</td>\n",
       "      <td>0</td>\n",
       "      <td>0</td>\n",
       "      <td>0</td>\n",
       "      <td>0</td>\n",
       "      <td>0</td>\n",
       "    </tr>\n",
       "    <tr>\n",
       "      <th>4</th>\n",
       "      <td>0</td>\n",
       "      <td>0</td>\n",
       "      <td>0</td>\n",
       "      <td>0</td>\n",
       "      <td>0</td>\n",
       "      <td>0</td>\n",
       "      <td>0</td>\n",
       "      <td>0</td>\n",
       "      <td>0</td>\n",
       "      <td>0</td>\n",
       "      <td>...</td>\n",
       "      <td>0</td>\n",
       "      <td>0</td>\n",
       "      <td>0</td>\n",
       "      <td>0</td>\n",
       "      <td>0</td>\n",
       "      <td>0</td>\n",
       "      <td>0</td>\n",
       "      <td>1</td>\n",
       "      <td>0</td>\n",
       "      <td>0</td>\n",
       "    </tr>\n",
       "  </tbody>\n",
       "</table>\n",
       "<p>5 rows × 2048 columns</p>\n",
       "</div>"
      ],
      "text/plain": [
       "   Bit_0  Bit_1  Bit_2  Bit_3  Bit_4  Bit_5  Bit_6  Bit_7  Bit_8  Bit_9  ...  \\\n",
       "0      0      0      0      0      0      0      0      0      0      0  ...   \n",
       "1      0      0      0      0      0      0      0      0      0      1  ...   \n",
       "2      0      0      0      0      0      0      0      0      0      0  ...   \n",
       "3      0      0      0      0      0      0      0      0      0      0  ...   \n",
       "4      0      0      0      0      0      0      0      0      0      0  ...   \n",
       "\n",
       "   Bit_2038  Bit_2039  Bit_2040  Bit_2041  Bit_2042  Bit_2043  Bit_2044  \\\n",
       "0         0         0         0         0         0         0         1   \n",
       "1         0         0         1         1         0         0         0   \n",
       "2         0         1         0         0         0         0         0   \n",
       "3         0         0         0         0         0         0         0   \n",
       "4         0         0         0         0         0         0         0   \n",
       "\n",
       "   Bit_2045  Bit_2046  Bit_2047  \n",
       "0         0         0         0  \n",
       "1         1         1         1  \n",
       "2         0         0         0  \n",
       "3         0         0         0  \n",
       "4         1         0         0  \n",
       "\n",
       "[5 rows x 2048 columns]"
      ]
     },
     "execution_count": 39,
     "metadata": {},
     "output_type": "execute_result"
    }
   ],
   "source": [
    "columns = [f'Bit_{i}' for i in range(2048)]\n",
    "bits = [list(l) for l in vectors]\n",
    "df_rdkfp = pd.DataFrame(bits, columns=columns)\n",
    "df_rdkfp.head()"
   ]
  },
  {
   "cell_type": "code",
   "execution_count": 7,
   "metadata": {},
   "outputs": [],
   "source": [
    "def smiles_to_rdkfp(data, save_path):\n",
    "    \"\"\" \n",
    "    Converts SMILES into a dataframe with RDK fingerprints (2048 bits)\n",
    "\n",
    "    data= column of a dataframe with the SMILES structure\n",
    "\n",
    "    returns RDK fingeprints as dataframe\n",
    "    \"\"\"\n",
    "    mols = data.apply(lambda x: Chem.MolFromSmiles(x))\n",
    "    mols = mols.apply(lambda x: Chem.AddHs(x))\n",
    "\n",
    "    vectors = [AllChem.rdmolops.RDKFingerprint(x) for x in mols]\n",
    "\n",
    "    columns = [f'Bit_{i}' for i in range(2048)]\n",
    "    bits = [list(l) for l in vectors]\n",
    "    df = pd.DataFrame(bits, columns=columns)\n",
    "\n",
    "    df.to_csv(save_path, index=False)\n",
    "    \n",
    "    return df"
   ]
  },
  {
   "cell_type": "code",
   "execution_count": 42,
   "metadata": {},
   "outputs": [],
   "source": [
    "maccs = Chem.MACCSkeys.GenMACCSKeys(train[\"mol\"][0])"
   ]
  },
  {
   "cell_type": "code",
   "execution_count": 43,
   "metadata": {},
   "outputs": [
    {
     "data": {
      "text/plain": [
       "<rdkit.DataStructs.cDataStructs.ExplicitBitVect at 0x2810aa24f30>"
      ]
     },
     "execution_count": 43,
     "metadata": {},
     "output_type": "execute_result"
    }
   ],
   "source": [
    "maccs"
   ]
  },
  {
   "cell_type": "code",
   "execution_count": 56,
   "metadata": {},
   "outputs": [],
   "source": [
    "def smiles_to_maccs(data, save_path):\n",
    "    \"\"\" \n",
    "    Converts SMILES into a dataframe with MACCS keys\n",
    "\n",
    "    data= column of a dataframe with the SMILES structure\n",
    "\n",
    "    returns MACCS keys as dataframe\n",
    "    \"\"\"\n",
    "    mols = data.apply(lambda x: Chem.MolFromSmiles(x))\n",
    "    mols = mols.apply(lambda x: Chem.AddHs(x))\n",
    "\n",
    "    vectors = [Chem.MACCSkeys.GenMACCSKeys(x) for x in mols]\n",
    "\n",
    "    columns = [f'Bit_{i}' for i in range(len(vectors[0]))]\n",
    "    bits = [list(l) for l in vectors]\n",
    "    df = pd.DataFrame(bits, columns=columns)\n",
    "\n",
    "    df.to_csv(save_path, index=False)\n",
    "    \n",
    "    return df"
   ]
  },
  {
   "cell_type": "code",
   "execution_count": 54,
   "metadata": {},
   "outputs": [
    {
     "name": "stderr",
     "output_type": "stream",
     "text": [
      "[13:11:05] WARNING: not removing hydrogen atom without neighbors\n",
      "[13:11:05] WARNING: not removing hydrogen atom without neighbors\n"
     ]
    },
    {
     "data": {
      "text/html": [
       "<div>\n",
       "<style scoped>\n",
       "    .dataframe tbody tr th:only-of-type {\n",
       "        vertical-align: middle;\n",
       "    }\n",
       "\n",
       "    .dataframe tbody tr th {\n",
       "        vertical-align: top;\n",
       "    }\n",
       "\n",
       "    .dataframe thead th {\n",
       "        text-align: right;\n",
       "    }\n",
       "</style>\n",
       "<table border=\"1\" class=\"dataframe\">\n",
       "  <thead>\n",
       "    <tr style=\"text-align: right;\">\n",
       "      <th></th>\n",
       "      <th>Bit_0</th>\n",
       "      <th>Bit_1</th>\n",
       "      <th>Bit_2</th>\n",
       "      <th>Bit_3</th>\n",
       "      <th>Bit_4</th>\n",
       "      <th>Bit_5</th>\n",
       "      <th>Bit_6</th>\n",
       "      <th>Bit_7</th>\n",
       "      <th>Bit_8</th>\n",
       "      <th>Bit_9</th>\n",
       "      <th>...</th>\n",
       "      <th>Bit_157</th>\n",
       "      <th>Bit_158</th>\n",
       "      <th>Bit_159</th>\n",
       "      <th>Bit_160</th>\n",
       "      <th>Bit_161</th>\n",
       "      <th>Bit_162</th>\n",
       "      <th>Bit_163</th>\n",
       "      <th>Bit_164</th>\n",
       "      <th>Bit_165</th>\n",
       "      <th>Bit_166</th>\n",
       "    </tr>\n",
       "  </thead>\n",
       "  <tbody>\n",
       "    <tr>\n",
       "      <th>0</th>\n",
       "      <td>0</td>\n",
       "      <td>0</td>\n",
       "      <td>0</td>\n",
       "      <td>0</td>\n",
       "      <td>0</td>\n",
       "      <td>0</td>\n",
       "      <td>0</td>\n",
       "      <td>0</td>\n",
       "      <td>0</td>\n",
       "      <td>0</td>\n",
       "      <td>...</td>\n",
       "      <td>0</td>\n",
       "      <td>0</td>\n",
       "      <td>1</td>\n",
       "      <td>1</td>\n",
       "      <td>0</td>\n",
       "      <td>0</td>\n",
       "      <td>1</td>\n",
       "      <td>1</td>\n",
       "      <td>1</td>\n",
       "      <td>0</td>\n",
       "    </tr>\n",
       "    <tr>\n",
       "      <th>1</th>\n",
       "      <td>0</td>\n",
       "      <td>0</td>\n",
       "      <td>0</td>\n",
       "      <td>0</td>\n",
       "      <td>0</td>\n",
       "      <td>0</td>\n",
       "      <td>0</td>\n",
       "      <td>0</td>\n",
       "      <td>0</td>\n",
       "      <td>0</td>\n",
       "      <td>...</td>\n",
       "      <td>0</td>\n",
       "      <td>1</td>\n",
       "      <td>0</td>\n",
       "      <td>1</td>\n",
       "      <td>1</td>\n",
       "      <td>1</td>\n",
       "      <td>1</td>\n",
       "      <td>1</td>\n",
       "      <td>1</td>\n",
       "      <td>0</td>\n",
       "    </tr>\n",
       "    <tr>\n",
       "      <th>2</th>\n",
       "      <td>0</td>\n",
       "      <td>0</td>\n",
       "      <td>0</td>\n",
       "      <td>0</td>\n",
       "      <td>0</td>\n",
       "      <td>0</td>\n",
       "      <td>0</td>\n",
       "      <td>0</td>\n",
       "      <td>0</td>\n",
       "      <td>0</td>\n",
       "      <td>...</td>\n",
       "      <td>1</td>\n",
       "      <td>1</td>\n",
       "      <td>1</td>\n",
       "      <td>1</td>\n",
       "      <td>1</td>\n",
       "      <td>1</td>\n",
       "      <td>1</td>\n",
       "      <td>1</td>\n",
       "      <td>1</td>\n",
       "      <td>0</td>\n",
       "    </tr>\n",
       "    <tr>\n",
       "      <th>3</th>\n",
       "      <td>0</td>\n",
       "      <td>0</td>\n",
       "      <td>0</td>\n",
       "      <td>0</td>\n",
       "      <td>0</td>\n",
       "      <td>0</td>\n",
       "      <td>0</td>\n",
       "      <td>0</td>\n",
       "      <td>0</td>\n",
       "      <td>0</td>\n",
       "      <td>...</td>\n",
       "      <td>1</td>\n",
       "      <td>0</td>\n",
       "      <td>1</td>\n",
       "      <td>0</td>\n",
       "      <td>0</td>\n",
       "      <td>1</td>\n",
       "      <td>1</td>\n",
       "      <td>1</td>\n",
       "      <td>1</td>\n",
       "      <td>0</td>\n",
       "    </tr>\n",
       "    <tr>\n",
       "      <th>4</th>\n",
       "      <td>0</td>\n",
       "      <td>0</td>\n",
       "      <td>0</td>\n",
       "      <td>0</td>\n",
       "      <td>0</td>\n",
       "      <td>0</td>\n",
       "      <td>0</td>\n",
       "      <td>0</td>\n",
       "      <td>0</td>\n",
       "      <td>0</td>\n",
       "      <td>...</td>\n",
       "      <td>0</td>\n",
       "      <td>1</td>\n",
       "      <td>1</td>\n",
       "      <td>0</td>\n",
       "      <td>1</td>\n",
       "      <td>1</td>\n",
       "      <td>1</td>\n",
       "      <td>1</td>\n",
       "      <td>1</td>\n",
       "      <td>0</td>\n",
       "    </tr>\n",
       "    <tr>\n",
       "      <th>...</th>\n",
       "      <td>...</td>\n",
       "      <td>...</td>\n",
       "      <td>...</td>\n",
       "      <td>...</td>\n",
       "      <td>...</td>\n",
       "      <td>...</td>\n",
       "      <td>...</td>\n",
       "      <td>...</td>\n",
       "      <td>...</td>\n",
       "      <td>...</td>\n",
       "      <td>...</td>\n",
       "      <td>...</td>\n",
       "      <td>...</td>\n",
       "      <td>...</td>\n",
       "      <td>...</td>\n",
       "      <td>...</td>\n",
       "      <td>...</td>\n",
       "      <td>...</td>\n",
       "      <td>...</td>\n",
       "      <td>...</td>\n",
       "      <td>...</td>\n",
       "    </tr>\n",
       "    <tr>\n",
       "      <th>28784</th>\n",
       "      <td>0</td>\n",
       "      <td>0</td>\n",
       "      <td>0</td>\n",
       "      <td>0</td>\n",
       "      <td>0</td>\n",
       "      <td>0</td>\n",
       "      <td>0</td>\n",
       "      <td>0</td>\n",
       "      <td>0</td>\n",
       "      <td>0</td>\n",
       "      <td>...</td>\n",
       "      <td>0</td>\n",
       "      <td>1</td>\n",
       "      <td>1</td>\n",
       "      <td>1</td>\n",
       "      <td>1</td>\n",
       "      <td>1</td>\n",
       "      <td>1</td>\n",
       "      <td>1</td>\n",
       "      <td>1</td>\n",
       "      <td>0</td>\n",
       "    </tr>\n",
       "    <tr>\n",
       "      <th>28785</th>\n",
       "      <td>0</td>\n",
       "      <td>0</td>\n",
       "      <td>0</td>\n",
       "      <td>0</td>\n",
       "      <td>0</td>\n",
       "      <td>0</td>\n",
       "      <td>0</td>\n",
       "      <td>0</td>\n",
       "      <td>0</td>\n",
       "      <td>0</td>\n",
       "      <td>...</td>\n",
       "      <td>0</td>\n",
       "      <td>1</td>\n",
       "      <td>1</td>\n",
       "      <td>1</td>\n",
       "      <td>1</td>\n",
       "      <td>1</td>\n",
       "      <td>1</td>\n",
       "      <td>1</td>\n",
       "      <td>1</td>\n",
       "      <td>0</td>\n",
       "    </tr>\n",
       "    <tr>\n",
       "      <th>28786</th>\n",
       "      <td>0</td>\n",
       "      <td>0</td>\n",
       "      <td>0</td>\n",
       "      <td>0</td>\n",
       "      <td>0</td>\n",
       "      <td>0</td>\n",
       "      <td>0</td>\n",
       "      <td>0</td>\n",
       "      <td>0</td>\n",
       "      <td>0</td>\n",
       "      <td>...</td>\n",
       "      <td>1</td>\n",
       "      <td>1</td>\n",
       "      <td>1</td>\n",
       "      <td>1</td>\n",
       "      <td>1</td>\n",
       "      <td>1</td>\n",
       "      <td>1</td>\n",
       "      <td>1</td>\n",
       "      <td>1</td>\n",
       "      <td>0</td>\n",
       "    </tr>\n",
       "    <tr>\n",
       "      <th>28787</th>\n",
       "      <td>0</td>\n",
       "      <td>0</td>\n",
       "      <td>0</td>\n",
       "      <td>0</td>\n",
       "      <td>0</td>\n",
       "      <td>0</td>\n",
       "      <td>0</td>\n",
       "      <td>0</td>\n",
       "      <td>0</td>\n",
       "      <td>0</td>\n",
       "      <td>...</td>\n",
       "      <td>0</td>\n",
       "      <td>1</td>\n",
       "      <td>1</td>\n",
       "      <td>1</td>\n",
       "      <td>1</td>\n",
       "      <td>1</td>\n",
       "      <td>1</td>\n",
       "      <td>1</td>\n",
       "      <td>1</td>\n",
       "      <td>0</td>\n",
       "    </tr>\n",
       "    <tr>\n",
       "      <th>28788</th>\n",
       "      <td>0</td>\n",
       "      <td>0</td>\n",
       "      <td>0</td>\n",
       "      <td>0</td>\n",
       "      <td>0</td>\n",
       "      <td>0</td>\n",
       "      <td>0</td>\n",
       "      <td>0</td>\n",
       "      <td>0</td>\n",
       "      <td>0</td>\n",
       "      <td>...</td>\n",
       "      <td>1</td>\n",
       "      <td>0</td>\n",
       "      <td>1</td>\n",
       "      <td>1</td>\n",
       "      <td>1</td>\n",
       "      <td>1</td>\n",
       "      <td>1</td>\n",
       "      <td>1</td>\n",
       "      <td>1</td>\n",
       "      <td>0</td>\n",
       "    </tr>\n",
       "  </tbody>\n",
       "</table>\n",
       "<p>28789 rows × 167 columns</p>\n",
       "</div>"
      ],
      "text/plain": [
       "       Bit_0  Bit_1  Bit_2  Bit_3  Bit_4  Bit_5  Bit_6  Bit_7  Bit_8  Bit_9  \\\n",
       "0          0      0      0      0      0      0      0      0      0      0   \n",
       "1          0      0      0      0      0      0      0      0      0      0   \n",
       "2          0      0      0      0      0      0      0      0      0      0   \n",
       "3          0      0      0      0      0      0      0      0      0      0   \n",
       "4          0      0      0      0      0      0      0      0      0      0   \n",
       "...      ...    ...    ...    ...    ...    ...    ...    ...    ...    ...   \n",
       "28784      0      0      0      0      0      0      0      0      0      0   \n",
       "28785      0      0      0      0      0      0      0      0      0      0   \n",
       "28786      0      0      0      0      0      0      0      0      0      0   \n",
       "28787      0      0      0      0      0      0      0      0      0      0   \n",
       "28788      0      0      0      0      0      0      0      0      0      0   \n",
       "\n",
       "       ...  Bit_157  Bit_158  Bit_159  Bit_160  Bit_161  Bit_162  Bit_163  \\\n",
       "0      ...        0        0        1        1        0        0        1   \n",
       "1      ...        0        1        0        1        1        1        1   \n",
       "2      ...        1        1        1        1        1        1        1   \n",
       "3      ...        1        0        1        0        0        1        1   \n",
       "4      ...        0        1        1        0        1        1        1   \n",
       "...    ...      ...      ...      ...      ...      ...      ...      ...   \n",
       "28784  ...        0        1        1        1        1        1        1   \n",
       "28785  ...        0        1        1        1        1        1        1   \n",
       "28786  ...        1        1        1        1        1        1        1   \n",
       "28787  ...        0        1        1        1        1        1        1   \n",
       "28788  ...        1        0        1        1        1        1        1   \n",
       "\n",
       "       Bit_164  Bit_165  Bit_166  \n",
       "0            1        1        0  \n",
       "1            1        1        0  \n",
       "2            1        1        0  \n",
       "3            1        1        0  \n",
       "4            1        1        0  \n",
       "...        ...      ...      ...  \n",
       "28784        1        1        0  \n",
       "28785        1        1        0  \n",
       "28786        1        1        0  \n",
       "28787        1        1        0  \n",
       "28788        1        1        0  \n",
       "\n",
       "[28789 rows x 167 columns]"
      ]
     },
     "execution_count": 54,
     "metadata": {},
     "output_type": "execute_result"
    }
   ],
   "source": [
    "smiles_to_maccs(train[\"Drug\"])"
   ]
  },
  {
   "cell_type": "code",
   "execution_count": 7,
   "metadata": {},
   "outputs": [],
   "source": [
    "test= pd.read_csv(\"../data/processed/test_w_desc.csv\")\n",
    "valid= pd.read_csv(\"../data/processed/valid_w_desc.csv\")\n"
   ]
  },
  {
   "cell_type": "code",
   "execution_count": null,
   "metadata": {},
   "outputs": [],
   "source": []
  },
  {
   "cell_type": "code",
   "execution_count": 58,
   "metadata": {},
   "outputs": [
    {
     "name": "stderr",
     "output_type": "stream",
     "text": [
      "[13:24:10] WARNING: not removing hydrogen atom without neighbors\n",
      "[13:24:10] WARNING: not removing hydrogen atom without neighbors\n",
      "[13:39:31] WARNING: not removing hydrogen atom without neighbors\n",
      "[13:39:31] WARNING: not removing hydrogen atom without neighbors\n"
     ]
    }
   ],
   "source": [
    "train_rdkfp = smiles_to_rdkfp(train[\"Drug\"], \"../data/processed/train_rdkfp.csv\")\n",
    "test_rdkfp = smiles_to_rdkfp(test[\"Drug\"], \"../data/processed/test_rdkfp.csv\")\n",
    "valid_rdkfp = smiles_to_rdkfp(valid[\"Drug\"], \"../data/processed/valid_rdkfp.csv\")\n",
    "train_maccs = smiles_to_maccs(train[\"Drug\"], \"../data/processed/train_maccs.csv\")\n",
    "test_maccs = smiles_to_maccs(test[\"Drug\"], \"../data/processed/test_maccs.csv\")\n",
    "valid_maccs = smiles_to_maccs(valid[\"Drug\"], \"../data/processed/valid_maccs.csv\")"
   ]
  },
  {
   "cell_type": "code",
   "execution_count": 59,
   "metadata": {},
   "outputs": [],
   "source": [
    "import pickle"
   ]
  },
  {
   "cell_type": "code",
   "execution_count": 60,
   "metadata": {},
   "outputs": [],
   "source": [
    "with open(\"../utils/smiles_to_rdkfp.pkl\", \"wb\") as save_file:\n",
    "    pickle.dump(smiles_to_rdkfp, save_file)"
   ]
  },
  {
   "cell_type": "code",
   "execution_count": 61,
   "metadata": {},
   "outputs": [],
   "source": [
    "with open(\"../utils/smiles_to_maccs.pkl\", \"wb\") as save_file:\n",
    "    pickle.dump(smiles_to_maccs, save_file)"
   ]
  },
  {
   "cell_type": "code",
   "execution_count": 14,
   "metadata": {},
   "outputs": [],
   "source": [
    "from rdkit.Chem.AtomPairs import Pairs"
   ]
  },
  {
   "cell_type": "code",
   "execution_count": 41,
   "metadata": {},
   "outputs": [],
   "source": [
    "pairsfp= Pairs.GetAtomPairFingerprintAsBitVect(train[\"mol\"][0])"
   ]
  },
  {
   "cell_type": "code",
   "execution_count": 42,
   "metadata": {},
   "outputs": [
    {
     "data": {
      "text/plain": [
       "<rdkit.DataStructs.cDataStructs.SparseBitVect at 0x20fbb9c8db0>"
      ]
     },
     "execution_count": 42,
     "metadata": {},
     "output_type": "execute_result"
    }
   ],
   "source": [
    "pairsfp"
   ]
  },
  {
   "cell_type": "code",
   "execution_count": 43,
   "metadata": {},
   "outputs": [
    {
     "data": {
      "text/plain": [
       "8388608"
      ]
     },
     "execution_count": 43,
     "metadata": {},
     "output_type": "execute_result"
    }
   ],
   "source": [
    "len(pairsfp)"
   ]
  },
  {
   "cell_type": "code",
   "execution_count": 47,
   "metadata": {},
   "outputs": [],
   "source": [
    "columns = [f'Bit_{i}' for i in range(len(pairsfp))]\n"
   ]
  },
  {
   "cell_type": "code",
   "execution_count": 50,
   "metadata": {},
   "outputs": [],
   "source": [
    "bits= []\n",
    "for l in range(len(pairsfp)):\n",
    "    bits.append(pairsfp[l])"
   ]
  },
  {
   "cell_type": "code",
   "execution_count": 53,
   "metadata": {},
   "outputs": [],
   "source": [
    "bits= [bits]"
   ]
  },
  {
   "cell_type": "code",
   "execution_count": 55,
   "metadata": {},
   "outputs": [],
   "source": [
    "df_mock = pd.DataFrame(bits, columns=columns)"
   ]
  },
  {
   "cell_type": "code",
   "execution_count": 57,
   "metadata": {},
   "outputs": [
    {
     "data": {
      "text/html": [
       "<div>\n",
       "<style scoped>\n",
       "    .dataframe tbody tr th:only-of-type {\n",
       "        vertical-align: middle;\n",
       "    }\n",
       "\n",
       "    .dataframe tbody tr th {\n",
       "        vertical-align: top;\n",
       "    }\n",
       "\n",
       "    .dataframe thead th {\n",
       "        text-align: right;\n",
       "    }\n",
       "</style>\n",
       "<table border=\"1\" class=\"dataframe\">\n",
       "  <thead>\n",
       "    <tr style=\"text-align: right;\">\n",
       "      <th></th>\n",
       "      <th>Bit_0</th>\n",
       "      <th>Bit_1</th>\n",
       "      <th>Bit_2</th>\n",
       "      <th>Bit_3</th>\n",
       "      <th>Bit_4</th>\n",
       "      <th>Bit_5</th>\n",
       "      <th>Bit_6</th>\n",
       "      <th>Bit_7</th>\n",
       "      <th>Bit_8</th>\n",
       "      <th>Bit_9</th>\n",
       "      <th>...</th>\n",
       "      <th>Bit_8388598</th>\n",
       "      <th>Bit_8388599</th>\n",
       "      <th>Bit_8388600</th>\n",
       "      <th>Bit_8388601</th>\n",
       "      <th>Bit_8388602</th>\n",
       "      <th>Bit_8388603</th>\n",
       "      <th>Bit_8388604</th>\n",
       "      <th>Bit_8388605</th>\n",
       "      <th>Bit_8388606</th>\n",
       "      <th>Bit_8388607</th>\n",
       "    </tr>\n",
       "  </thead>\n",
       "  <tbody>\n",
       "    <tr>\n",
       "      <th>0</th>\n",
       "      <td>0</td>\n",
       "      <td>0</td>\n",
       "      <td>0</td>\n",
       "      <td>0</td>\n",
       "      <td>0</td>\n",
       "      <td>0</td>\n",
       "      <td>0</td>\n",
       "      <td>0</td>\n",
       "      <td>0</td>\n",
       "      <td>0</td>\n",
       "      <td>...</td>\n",
       "      <td>0</td>\n",
       "      <td>0</td>\n",
       "      <td>0</td>\n",
       "      <td>0</td>\n",
       "      <td>0</td>\n",
       "      <td>0</td>\n",
       "      <td>0</td>\n",
       "      <td>0</td>\n",
       "      <td>0</td>\n",
       "      <td>0</td>\n",
       "    </tr>\n",
       "  </tbody>\n",
       "</table>\n",
       "<p>1 rows × 8388608 columns</p>\n",
       "</div>"
      ],
      "text/plain": [
       "   Bit_0  Bit_1  Bit_2  Bit_3  Bit_4  Bit_5  Bit_6  Bit_7  Bit_8  Bit_9  ...  \\\n",
       "0      0      0      0      0      0      0      0      0      0      0  ...   \n",
       "\n",
       "   Bit_8388598  Bit_8388599  Bit_8388600  Bit_8388601  Bit_8388602  \\\n",
       "0            0            0            0            0            0   \n",
       "\n",
       "   Bit_8388603  Bit_8388604  Bit_8388605  Bit_8388606  Bit_8388607  \n",
       "0            0            0            0            0            0  \n",
       "\n",
       "[1 rows x 8388608 columns]"
      ]
     },
     "execution_count": 57,
     "metadata": {},
     "output_type": "execute_result"
    }
   ],
   "source": [
    "df_mock"
   ]
  },
  {
   "cell_type": "code",
   "execution_count": null,
   "metadata": {},
   "outputs": [],
   "source": [
    "#atompairs bits might be too large to compute"
   ]
  },
  {
   "cell_type": "code",
   "execution_count": 65,
   "metadata": {},
   "outputs": [],
   "source": [
    "from rdkit.Chem.AtomPairs import Torsions"
   ]
  },
  {
   "cell_type": "code",
   "execution_count": 66,
   "metadata": {},
   "outputs": [],
   "source": [
    "torsions= Torsions.GetTopologicalTorsionFingerprint(train[\"mol\"][0])"
   ]
  },
  {
   "cell_type": "code",
   "execution_count": 75,
   "metadata": {},
   "outputs": [
    {
     "ename": "KeyboardInterrupt",
     "evalue": "",
     "output_type": "error",
     "traceback": [
      "\u001b[1;31m---------------------------------------------------------------------------\u001b[0m",
      "\u001b[1;31mKeyboardInterrupt\u001b[0m                         Traceback (most recent call last)",
      "\u001b[1;32m~\\AppData\\Local\\Temp\\ipykernel_3896\\1719826386.py\u001b[0m in \u001b[0;36m<module>\u001b[1;34m\u001b[0m\n\u001b[0;32m      1\u001b[0m \u001b[0mcount\u001b[0m\u001b[1;33m=\u001b[0m \u001b[1;36m0\u001b[0m\u001b[1;33m\u001b[0m\u001b[1;33m\u001b[0m\u001b[0m\n\u001b[1;32m----> 2\u001b[1;33m \u001b[1;32mfor\u001b[0m \u001b[0mi\u001b[0m \u001b[1;32min\u001b[0m \u001b[0mtorsions\u001b[0m\u001b[1;33m:\u001b[0m\u001b[1;33m\u001b[0m\u001b[1;33m\u001b[0m\u001b[0m\n\u001b[0m\u001b[0;32m      3\u001b[0m     \u001b[0mcount\u001b[0m\u001b[1;33m+=\u001b[0m\u001b[1;36m1\u001b[0m\u001b[1;33m\u001b[0m\u001b[1;33m\u001b[0m\u001b[0m\n\u001b[0;32m      4\u001b[0m \u001b[0mcount\u001b[0m\u001b[1;33m\u001b[0m\u001b[1;33m\u001b[0m\u001b[0m\n",
      "\u001b[1;31mKeyboardInterrupt\u001b[0m: "
     ]
    }
   ],
   "source": [
    "count= 0\n",
    "for i in torsions:\n",
    "    count+=1\n",
    "count"
   ]
  },
  {
   "cell_type": "code",
   "execution_count": 76,
   "metadata": {},
   "outputs": [
    {
     "data": {
      "text/plain": [
       "388775973"
      ]
     },
     "execution_count": 76,
     "metadata": {},
     "output_type": "execute_result"
    }
   ],
   "source": [
    "count #this is the count value, interrupted after 5 min of loop"
   ]
  },
  {
   "cell_type": "code",
   "execution_count": null,
   "metadata": {},
   "outputs": [],
   "source": []
  },
  {
   "cell_type": "code",
   "execution_count": 9,
   "metadata": {},
   "outputs": [],
   "source": [
    "#Real data to test the model"
   ]
  },
  {
   "cell_type": "code",
   "execution_count": 14,
   "metadata": {},
   "outputs": [],
   "source": [
    "drugs= pd.read_csv(\"../data/raw/repurposing_samples_20180907.txt\", sep=\"\\t\")"
   ]
  },
  {
   "cell_type": "code",
   "execution_count": 15,
   "metadata": {},
   "outputs": [],
   "source": [
    "drugs_df = drugs[[\"smiles\"]]"
   ]
  },
  {
   "cell_type": "code",
   "execution_count": 16,
   "metadata": {},
   "outputs": [],
   "source": [
    "drugs_df= drugs_df.dropna()"
   ]
  },
  {
   "cell_type": "code",
   "execution_count": 17,
   "metadata": {},
   "outputs": [
    {
     "name": "stdout",
     "output_type": "stream",
     "text": [
      "<class 'pandas.core.frame.DataFrame'>\n",
      "Int64Index: 10141 entries, 0 to 10146\n",
      "Data columns (total 1 columns):\n",
      " #   Column  Non-Null Count  Dtype \n",
      "---  ------  --------------  ----- \n",
      " 0   smiles  10141 non-null  object\n",
      "dtypes: object(1)\n",
      "memory usage: 158.5+ KB\n"
     ]
    }
   ],
   "source": [
    "drugs_df.info()"
   ]
  },
  {
   "cell_type": "code",
   "execution_count": 20,
   "metadata": {},
   "outputs": [],
   "source": [
    "drugs_rdkfp= smiles_to_rdkfp(drugs_df[\"smiles\"], \"../data/processed/drugs_rdkfp.csv\")"
   ]
  },
  {
   "cell_type": "code",
   "execution_count": null,
   "metadata": {},
   "outputs": [],
   "source": []
  }
 ],
 "metadata": {
  "kernelspec": {
   "display_name": "rdkit",
   "language": "python",
   "name": "python3"
  },
  "language_info": {
   "codemirror_mode": {
    "name": "ipython",
    "version": 3
   },
   "file_extension": ".py",
   "mimetype": "text/x-python",
   "name": "python",
   "nbconvert_exporter": "python",
   "pygments_lexer": "ipython3",
   "version": "3.7.12"
  },
  "orig_nbformat": 4,
  "vscode": {
   "interpreter": {
    "hash": "50cf61b96a964f829999ed2a2d6277fc8304597e781dbeab88690ff5d9cff0d3"
   }
  }
 },
 "nbformat": 4,
 "nbformat_minor": 2
}
